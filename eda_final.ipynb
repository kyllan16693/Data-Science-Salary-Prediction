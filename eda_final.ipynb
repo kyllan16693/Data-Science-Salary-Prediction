{
 "cells": [
  {
   "cell_type": "code",
   "execution_count": null,
   "metadata": {},
   "outputs": [],
   "source": [
    "# Import necessary libraries\n",
    "import pandas as pd\n",
    "import numpy as np\n",
    "import matplotlib.pyplot as plt\n",
    "import seaborn as sns\n",
    "import missingno as msno"
   ]
  },
  {
   "cell_type": "code",
   "execution_count": null,
   "metadata": {},
   "outputs": [],
   "source": [
    "# Read the dataset\n",
    "df = pd.read_csv('../data/ds_salaries.csv')"
   ]
  },
  {
   "cell_type": "code",
   "execution_count": null,
   "metadata": {},
   "outputs": [],
   "source": [
    "df['job_title'].value_counts()"
   ]
  },
  {
   "cell_type": "code",
   "execution_count": null,
   "metadata": {},
   "outputs": [],
   "source": [
    "import re\n",
    "\n",
    "# Define a function to map job titles to broader categories\n",
    "def map_job_title(job_title):\n",
    "    # Normalize the job title: lowercase and strip whitespace\n",
    "    title = job_title.lower().strip()\n",
    "    \n",
    "    # Define a mapping dictionary for grouping similar titles\n",
    "    mapping = {\n",
    "        # Data Engineer group\n",
    "        \"data engineer\": \"Data Engineer\",\n",
    "        \"etl developer\": \"Data Engineer\",\n",
    "        \"etl engineer\": \"Data Engineer\",\n",
    "        \"big data engineer\": \"Data Engineer\",\n",
    "        \"cloud data engineer\": \"Data Engineer\",\n",
    "        \"azure data engineer\": \"Data Engineer\",\n",
    "        \"data devops engineer\": \"Data Engineer\",\n",
    "        \"cloud database engineer\": \"Data Engineer\",\n",
    "        \"data operations engineer\": \"Data Engineer\",\n",
    "        \"data infrastructure engineer\": \"Data Engineer\",\n",
    "        \"bi data engineer\": \"Data Engineer\",\n",
    "        \n",
    "        # Data Scientist group\n",
    "        \"data scientist\": \"Data Scientist\",\n",
    "        \"applied data scientist\": \"Data Scientist\",\n",
    "        \"lead data scientist\": \"Data Scientist\",\n",
    "        \"staff data scientist\": \"Data Scientist\",\n",
    "        \"data scientist lead\": \"Data Scientist\",\n",
    "        \"product data scientist\": \"Data Scientist\",\n",
    "        \"data science manager\": \"Data Scientist\",\n",
    "        \"director of data science\": \"Data Scientist\",\n",
    "        \"data science consultant\": \"Data Scientist\",\n",
    "        \"data science lead\": \"Data Scientist\",\n",
    "        \"data science engineer\": \"Data Scientist\",\n",
    "        \"data science tech lead\": \"Data Scientist\",\n",
    "        \n",
    "        # Data Analyst group\n",
    "        \"data analyst\": \"Data Analyst\",\n",
    "        \"lead data analyst\": \"Data Analyst\",\n",
    "        \"staff data analyst\": \"Data Analyst\",\n",
    "        \"business data analyst\": \"Data Analyst\",\n",
    "        \"bi data analyst\": \"Data Analyst\",\n",
    "        \"financial data analyst\": \"Data Analyst\",\n",
    "        \"product data analyst\": \"Data Analyst\",\n",
    "        \"compliance data analyst\": \"Data Analyst\",\n",
    "        \"marketing data analyst\": \"Data Analyst\",\n",
    "        \"data quality analyst\": \"Data Analyst\",\n",
    "        \"bi analyst\": \"Data Analyst\",\n",
    "        \"analytics engineer\": \"Data Analyst\",\n",
    "        \"data analytics manager\": \"Data Analyst\",\n",
    "        \"data analytics engineer\": \"Data Analyst\",\n",
    "        \"data analytics specialist\": \"Data Analyst\",\n",
    "        \"data analytics consultant\": \"Data Analyst\",\n",
    "        \"data analytics lead\": \"Data Analyst\",\n",
    "        \n",
    "        # Machine Learning Engineer group\n",
    "        \"machine learning engineer\": \"Machine Learning Engineer\",\n",
    "        \"ml engineer\": \"Machine Learning Engineer\",\n",
    "        \"machine learning scientist\": \"Machine Learning Engineer\",\n",
    "        \"machine learning developer\": \"Machine Learning Engineer\",\n",
    "        \"machine learning software engineer\": \"Machine Learning Engineer\",\n",
    "        \"applied machine learning scientist\": \"Machine Learning Engineer\",\n",
    "        \"applied machine learning engineer\": \"Machine Learning Engineer\",\n",
    "        \"machine learning researcher\": \"Machine Learning Engineer\",\n",
    "        \"machine learning research engineer\": \"Machine Learning Engineer\",\n",
    "        \"lead machine learning engineer\": \"Machine Learning Engineer\",\n",
    "        \"machine learning manager\": \"Machine Learning Engineer\",\n",
    "        \"principal machine learning engineer\": \"Machine Learning Engineer\",\n",
    "        \"machine learning infrastructure engineer\": \"Machine Learning Engineer\",\n",
    "        \"mlops engineer\": \"Machine Learning Engineer\",\n",
    "        \n",
    "        # Other groups\n",
    "        \"data architect\": \"Data Architect\",\n",
    "        \"big data architect\": \"Data Architect\",\n",
    "        \"research scientist\": \"Research Scientist\",\n",
    "        \"applied scientist\": \"Research Scientist\",\n",
    "        \"research engineer\": \"Research Scientist\",\n",
    "        \"computer vision engineer\": \"Computer Vision Engineer\",\n",
    "        \"computer vision software engineer\": \"Computer Vision Engineer\",\n",
    "        \"3d computer vision researcher\": \"Computer Vision Engineer\",\n",
    "        \"nlp engineer\": \"NLP Engineer\",\n",
    "        \"ai scientist\": \"AI Scientist\",\n",
    "        \"ai developer\": \"AI Scientist\",\n",
    "        \"ai programmer\": \"AI Scientist\",\n",
    "        \"bi developer\": \"Data Analyst\",\n",
    "        \"data manager\": \"Data Manager\",\n",
    "        \"data specialist\": \"Data Specialist\",\n",
    "        \"data modeler\": \"Data Engineer\",\n",
    "        \"data strategist\": \"Data Scientist\",\n",
    "        \"business intelligence engineer\": \"Data Engineer\",\n",
    "        \"power bi developer\": \"Data Engineer\",\n",
    "        \"data management specialist\": \"Data Manager\",\n",
    "        \"manager data management\": \"Data Manager\"\n",
    "    }\n",
    "    \n",
    "    # Loop through the mapping keys and check if the key is in the title string\n",
    "    for key in mapping:\n",
    "        if key in title:\n",
    "            return mapping[key]\n",
    "    # If none of the keys match, assign a default group (e.g., \"Other\")\n",
    "    return \"Other\"\n",
    "\n",
    "# Create a new column with the cleaned and grouped job titles\n",
    "df['job_title_clean'] = df['job_title'].apply(map_job_title)\n",
    "\n",
    "# Check the value counts of the new grouped job titles\n",
    "print(df['job_title_clean'].value_counts())"
   ]
  },
  {
   "cell_type": "code",
   "execution_count": null,
   "metadata": {},
   "outputs": [],
   "source": [
    "df.head()"
   ]
  },
  {
   "cell_type": "code",
   "execution_count": null,
   "metadata": {},
   "outputs": [],
   "source": [
    "df = pd.get_dummies(df, columns=['job_title_clean'], prefix='job_title')\n",
    "\n",
    "df.drop(columns=['job_title'], inplace=True)"
   ]
  },
  {
   "cell_type": "code",
   "execution_count": null,
   "metadata": {},
   "outputs": [],
   "source": [
    "df.head()"
   ]
  },
  {
   "cell_type": "code",
   "execution_count": null,
   "metadata": {},
   "outputs": [],
   "source": [
    "# make experence cumulative\n",
    "def cumulative_experience_encoding(df):\n",
    "    level_order = ['EN', 'MI', 'SE', 'EX'] # Define the order of levels\n",
    "    for level in level_order:\n",
    "        df[f'experience_level_{level}'] = False # Initialize all to False\n",
    "\n",
    "    for index, row in df.iterrows():\n",
    "        level = row['experience_level']\n",
    "        if level == 'EN':\n",
    "            df.at[index, 'experience_level_EN'] = True\n",
    "        elif level == 'MI':\n",
    "            df.at[index, 'experience_level_EN'] = True\n",
    "            df.at[index, 'experience_level_MI'] = True\n",
    "        elif level == 'SE':\n",
    "            df.at[index, 'experience_level_EN'] = True\n",
    "            df.at[index, 'experience_level_MI'] = True\n",
    "            df.at[index, 'experience_level_SE'] = True\n",
    "        elif level == 'EX':\n",
    "            for l in level_order: # For EX, all levels are true\n",
    "                df.at[index, f'experience_level_{l}'] = True\n",
    "    return df\n",
    "\n",
    "df = cumulative_experience_encoding(df)\n",
    "df.drop(columns=['experience_level'], inplace=True)\n",
    "df.head()"
   ]
  },
  {
   "cell_type": "code",
   "execution_count": null,
   "metadata": {},
   "outputs": [],
   "source": [
    "# one hot encode emploment type\n",
    "df = pd.get_dummies(df, columns=['employment_type'])\n",
    "df.head()"
   ]
  },
  {
   "cell_type": "code",
   "execution_count": null,
   "metadata": {},
   "outputs": [],
   "source": [
    "# new column for if employee_location is in the same country as company_location\n",
    "df['same_country'] = df['employee_residence'] == df['company_location']\n",
    "df.head()"
   ]
  },
  {
   "cell_type": "code",
   "execution_count": null,
   "metadata": {},
   "outputs": [],
   "source": [
    "#one hot encode company size\n",
    "df = pd.get_dummies(df, columns=['company_size'])\n",
    "df.head()"
   ]
  },
  {
   "cell_type": "code",
   "execution_count": null,
   "metadata": {},
   "outputs": [],
   "source": [
    "# make encoded columns\n",
    "df_encoded = df.drop(columns=['salary', 'salary_currency'])\n",
    "#df_encoded = pd.get_dummies(df_encoded, columns=['experience_level', 'employment_type', 'job_title', 'employee_residence', 'company_location', 'company_size'])\n",
    "\n",
    "from sklearn.preprocessing import LabelEncoder\n",
    "\n",
    "le = LabelEncoder()\n",
    "df_encoded['employee_residence'] = le.fit_transform(df_encoded['employee_residence'])\n",
    "df_encoded['company_location'] = le.fit_transform(df_encoded['company_location'])\n",
    "\n",
    "df_encoded.head()"
   ]
  }
 ],
 "metadata": {
  "kernelspec": {
   "display_name": "env",
   "language": "python",
   "name": "python3"
  },
  "language_info": {
   "codemirror_mode": {
    "name": "ipython",
    "version": 3
   },
   "file_extension": ".py",
   "mimetype": "text/x-python",
   "name": "python",
   "nbconvert_exporter": "python",
   "pygments_lexer": "ipython3",
   "version": "3.11.4"
  }
 },
 "nbformat": 4,
 "nbformat_minor": 2
}
