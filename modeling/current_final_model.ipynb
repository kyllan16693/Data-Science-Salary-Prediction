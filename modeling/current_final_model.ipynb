{
 "cells": [
  {
   "cell_type": "code",
   "execution_count": 1,
   "metadata": {},
   "outputs": [],
   "source": [
    "import pandas as pd\n",
    "import numpy as np\n",
    "import xgboost as xgb\n",
    "from sklearn.model_selection import train_test_split\n",
    "from sklearn.metrics import mean_squared_error, r2_score, mean_absolute_error"
   ]
  },
  {
   "cell_type": "code",
   "execution_count": 2,
   "metadata": {},
   "outputs": [],
   "source": [
    "df_encoded = pd.read_csv('../data/encoded_data.csv')"
   ]
  },
  {
   "cell_type": "code",
   "execution_count": 3,
   "metadata": {},
   "outputs": [],
   "source": [
    "train_df, test_df = train_test_split(df_encoded, test_size=0.2, random_state=123)\n",
    "features = [col for col in train_df.columns if col != 'salary_in_usd']"
   ]
  },
  {
   "cell_type": "code",
   "execution_count": 4,
   "metadata": {},
   "outputs": [
    {
     "name": "stdout",
     "output_type": "stream",
     "text": [
      "XGBoost Mean Squared Error: 2024085760.0\n",
      "XGBoost R-squared: 0.44016188383102417\n",
      "XGBoost Accuracy: 0.44016188383102417\n",
      "Mean Absolute Error: 34731.91015625\n",
      "                                Feature  Importance\n",
      "18                  experience_level_SE    0.186654\n",
      "6                job_title_Data Analyst    0.130248\n",
      "1                    employee_residence    0.089373\n",
      "19                  experience_level_EX    0.065821\n",
      "3                      company_location    0.056195\n",
      "15         job_title_Research Scientist    0.040793\n",
      "17                  experience_level_MI    0.039507\n",
      "8               job_title_Data Engineer    0.038368\n",
      "12  job_title_Machine Learning Engineer    0.038310\n",
      "4                job_title_AI Scientist    0.028228\n"
     ]
    }
   ],
   "source": [
    "# current best params from hyperparameter tuning:\n",
    "# {'colsample_bytree': 0.8, 'learning_rate': 0.1, 'max_depth': 5, 'min_child_weight': 1, 'n_estimators': 75, 'subsample': 0.8}\n",
    "xbg = xgb.XGBRegressor(colsample_bytree=0.8, learning_rate=0.1, max_depth=5, min_child_weight=1, n_estimators=75, subsample=0.8)\n",
    "xbg.fit(train_df[features], train_df['salary_in_usd'])\n",
    "\n",
    "predictions = xbg.predict(test_df[features])\n",
    "\n",
    "print(f\"XGBoost Mean Squared Error: {mean_squared_error(test_df['salary_in_usd'], predictions)}\")\n",
    "print(f\"XGBoost R-squared: {r2_score(test_df['salary_in_usd'], predictions)}\")\n",
    "print(f\"XGBoost Accuracy: {xbg.score(test_df[features], test_df['salary_in_usd'])}\")\n",
    "print(f\"Mean Absolute Error: {mean_absolute_error(test_df['salary_in_usd'], predictions)}\")\n",
    "\n",
    "# Feature importance\n",
    "feature_importance = pd.DataFrame({'Feature': features, 'Importance': xbg.feature_importances_})\n",
    "feature_importance = feature_importance.sort_values(by='Importance', ascending=False)\n",
    "print(feature_importance.head(10))"
   ]
  },
  {
   "cell_type": "code",
   "execution_count": 5,
   "metadata": {},
   "outputs": [
    {
     "name": "stdout",
     "output_type": "stream",
     "text": [
      "Sample predictions with 95% prediction intervals(n=10):\n",
      "Test Point 0: Median Prediction = 164770.82, Lower Bound = 160386.24, Upper Bound = 170301.63\n",
      "Test Point 1: Median Prediction = 214022.90, Lower Bound = 157507.99, Upper Bound = 253314.00\n",
      "Test Point 2: Median Prediction = 132148.15, Lower Bound = 123603.54, Upper Bound = 139543.41\n",
      "Test Point 3: Median Prediction = 180548.66, Lower Bound = 169107.11, Upper Bound = 194125.44\n",
      "Test Point 4: Median Prediction = 35444.63, Lower Bound = 13341.52, Upper Bound = 63167.55\n",
      "Test Point 5: Median Prediction = 69505.85, Lower Bound = 49725.53, Upper Bound = 91555.53\n",
      "Test Point 6: Median Prediction = 132148.15, Lower Bound = 123603.54, Upper Bound = 139543.41\n",
      "Test Point 7: Median Prediction = 101102.52, Lower Bound = 88229.04, Upper Bound = 120702.42\n",
      "Test Point 8: Median Prediction = 73798.82, Lower Bound = 67159.64, Upper Bound = 79850.45\n",
      "Test Point 9: Median Prediction = 98904.74, Lower Bound = 81657.74, Upper Bound = 115770.49\n"
     ]
    }
   ],
   "source": [
    "\n",
    "def bootstrap_predictions(n_bootstrap, train_df, test_df, features):\n",
    "    # Reallocate the bootstrap_preds array based on the current n_bootstrap value\n",
    "    n_test = test_df.shape[0]\n",
    "    bootstrap_preds = np.zeros((n_bootstrap, n_test))\n",
    "    \n",
    "    for i in range(n_bootstrap):\n",
    "        # Sample training data with replacement\n",
    "        train_sample = train_df.sample(frac=1, replace=True, random_state=i)\n",
    "        \n",
    "        model = xgb.XGBRegressor(\n",
    "            colsample_bytree=0.8,\n",
    "            learning_rate=0.1,\n",
    "            max_depth=5,\n",
    "            min_child_weight=1,\n",
    "            n_estimators=75,\n",
    "            subsample=0.8,\n",
    "            random_state=123\n",
    "        )\n",
    "        model.fit(train_sample[features], train_sample['salary_in_usd'])\n",
    "        \n",
    "        # Predict on the test set\n",
    "        bootstrap_preds[i, :] = model.predict(test_df[features])\n",
    "    \n",
    "    # For each test point, compute the 2.5th and 97.5th percentiles for a 95% prediction interval\n",
    "    lower_bounds = np.percentile(bootstrap_preds, 2.5, axis=0)\n",
    "    upper_bounds = np.percentile(bootstrap_preds, 97.5, axis=0)\n",
    "    median_preds  = np.median(bootstrap_preds, axis=0)\n",
    "    return lower_bounds, upper_bounds, median_preds\n",
    "\n",
    "n_bootstrap = 100\n",
    "\n",
    "lb, ub, mp = bootstrap_predictions(n_bootstrap, train_df, test_df, features)\n",
    "print(\"Sample predictions with 95% prediction intervals(n=10):\")\n",
    "for i in range(10):\n",
    "    print(f\"Test Point {i}: Median Prediction = {mp[i]:.2f}, \"\n",
    "          f\"Lower Bound = {lb[i]:.2f}, Upper Bound = {ub[i]:.2f}\")"
   ]
  },
  {
   "cell_type": "code",
   "execution_count": 6,
   "metadata": {},
   "outputs": [
    {
     "name": "stdout",
     "output_type": "stream",
     "text": [
      "Sample predictions with 95% prediction intervals(n=200):\n",
      "Test Point 0: Median Prediction = 164981.39, Lower Bound = 160134.59, Upper Bound = 170268.42\n",
      "Test Point 1: Median Prediction = 217269.36, Lower Bound = 157434.42, Upper Bound = 253222.79\n",
      "Test Point 2: Median Prediction = 131459.73, Lower Bound = 123213.11, Upper Bound = 140212.94\n",
      "Test Point 3: Median Prediction = 180258.56, Lower Bound = 169015.77, Upper Bound = 193376.33\n",
      "Test Point 4: Median Prediction = 37127.55, Lower Bound = 8867.46, Upper Bound = 63867.34\n",
      "Test Point 5: Median Prediction = 69534.13, Lower Bound = 50980.96, Upper Bound = 90188.41\n",
      "Test Point 6: Median Prediction = 131459.73, Lower Bound = 123213.11, Upper Bound = 140212.94\n",
      "Test Point 7: Median Prediction = 102085.18, Lower Bound = 87544.72, Upper Bound = 120380.70\n",
      "Test Point 8: Median Prediction = 73648.38, Lower Bound = 67299.25, Upper Bound = 79629.63\n",
      "Test Point 9: Median Prediction = 97997.09, Lower Bound = 79318.91, Upper Bound = 116376.80\n"
     ]
    }
   ],
   "source": [
    "n_bootstrap = 200\n",
    "\n",
    "lb, ub, mp = bootstrap_predictions(n_bootstrap, train_df, test_df, features)\n",
    "print(\"Sample predictions with 95% prediction intervals(n=200):\")\n",
    "for i in range(10):\n",
    "    print(f\"Test Point {i}: Median Prediction = {mp[i]:.2f}, \"\n",
    "          f\"Lower Bound = {lb[i]:.2f}, Upper Bound = {ub[i]:.2f}\")"
   ]
  }
 ],
 "metadata": {
  "kernelspec": {
   "display_name": ".venv",
   "language": "python",
   "name": "python3"
  },
  "language_info": {
   "codemirror_mode": {
    "name": "ipython",
    "version": 3
   },
   "file_extension": ".py",
   "mimetype": "text/x-python",
   "name": "python",
   "nbconvert_exporter": "python",
   "pygments_lexer": "ipython3",
   "version": "3.12.9"
  }
 },
 "nbformat": 4,
 "nbformat_minor": 2
}
