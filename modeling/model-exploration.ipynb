{
 "cells": [
  {
   "cell_type": "markdown",
   "metadata": {},
   "source": [
    "# Testing out models"
   ]
  },
  {
   "cell_type": "code",
   "execution_count": 86,
   "metadata": {},
   "outputs": [],
   "source": [
    "import pandas as pd\n",
    "import xgboost as xgb\n",
    "from sklearn.model_selection import train_test_split\n",
    "from sklearn.tree import DecisionTreeRegressor\n",
    "from sklearn.linear_model import LinearRegression\n",
    "from sklearn.ensemble import RandomForestRegressor, GradientBoostingRegressor\n",
    "from sklearn.svm import SVR\n",
    "from sklearn.pipeline import Pipeline\n",
    "from sklearn.preprocessing import StandardScaler\n",
    "from sklearn.metrics import mean_squared_error, r2_score, mean_absolute_error"
   ]
  },
  {
   "cell_type": "code",
   "execution_count": 87,
   "metadata": {},
   "outputs": [],
   "source": [
    "df_encoded = pd.read_csv('../data/encoded_data.csv')\n",
    "\n",
    "train_df, test_df = train_test_split(df_encoded, test_size=0.2, random_state=123)\n",
    "features = [col for col in train_df.columns if col != 'salary_in_usd']"
   ]
  },
  {
   "cell_type": "markdown",
   "metadata": {},
   "source": [
    "## Decision Tree Model"
   ]
  },
  {
   "cell_type": "code",
   "execution_count": 88,
   "metadata": {},
   "outputs": [
    {
     "name": "stdout",
     "output_type": "stream",
     "text": [
      "Mean Squared Error: 2611286783.7520714\n",
      "R-squared: 0.2777490866642842\n",
      "Accuracy: 0.2777490866642842\n",
      "Mean Absolute Error: 37022.53084494818\n",
      "                    Feature  Importance\n",
      "1        employee_residence    0.434328\n",
      "6    job_title_Data Analyst    0.101558\n",
      "18      experience_level_SE    0.100752\n",
      "0                 work_year    0.046325\n",
      "3          company_location    0.041772\n",
      "2              remote_ratio    0.037934\n",
      "17      experience_level_MI    0.029557\n",
      "19      experience_level_EX    0.028949\n",
      "25           company_size_L    0.027059\n",
      "8   job_title_Data Engineer    0.024719\n"
     ]
    }
   ],
   "source": [
    "model = DecisionTreeRegressor()\n",
    "\n",
    "# Train the model\n",
    "model.fit(train_df[features], train_df['salary_in_usd'])\n",
    "\n",
    "# Make predictions on the test set\n",
    "predictions = model.predict(test_df[features])\n",
    "\n",
    "# Evaluate the model\n",
    "print(f\"Mean Squared Error: {mean_squared_error(test_df['salary_in_usd'], predictions)}\")\n",
    "print(f\"R-squared: {r2_score(test_df['salary_in_usd'], predictions)}\")\n",
    "print(f\"Accuracy: {model.score(test_df[features], test_df['salary_in_usd'])}\")\n",
    "print(f\"Mean Absolute Error: {mean_absolute_error(test_df['salary_in_usd'], predictions)}\")\n",
    "\n",
    "# Feature importance\n",
    "feature_importance = pd.DataFrame({'Feature': features, 'Importance': model.feature_importances_})\n",
    "feature_importance = feature_importance.sort_values(by='Importance', ascending=False)\n",
    "print(feature_importance.head(10))  # Show top 10 most important features"
   ]
  },
  {
   "cell_type": "markdown",
   "metadata": {},
   "source": [
    "## Linear Regression Model"
   ]
  },
  {
   "cell_type": "code",
   "execution_count": 89,
   "metadata": {},
   "outputs": [
    {
     "name": "stdout",
     "output_type": "stream",
     "text": [
      "Mean Squared Error: 2283713481.2406917\n",
      "R-squared: 0.3683519719526217\n",
      "Accuracy: 0.3683519719526217\n",
      "Mean Absolute Error: 37522.98449692578\n",
      "                                Feature    Importance\n",
      "19                  experience_level_EX  50712.180068\n",
      "4                job_title_AI Scientist  42496.804665\n",
      "15         job_title_Research Scientist  31875.343499\n",
      "18                  experience_level_SE  30601.538601\n",
      "17                  experience_level_MI  21944.172989\n",
      "24                         same_country  20818.796428\n",
      "22                   employment_type_FT  16252.835242\n",
      "12  job_title_Machine Learning Engineer  16005.519658\n",
      "0                             work_year   7106.917780\n",
      "25                       company_size_L   6679.352218\n"
     ]
    }
   ],
   "source": [
    "# Initialize the model\n",
    "model = LinearRegression()\n",
    "\n",
    "# Train the model\n",
    "model.fit(train_df[features], train_df['salary_in_usd'])\n",
    "\n",
    "# Make predictions on the test set\n",
    "predictions = model.predict(test_df[features])\n",
    "\n",
    "# Evaluate the model\n",
    "print(f\"Mean Squared Error: {mean_squared_error(test_df['salary_in_usd'], predictions)}\")\n",
    "print(f\"R-squared: {r2_score(test_df['salary_in_usd'], predictions)}\")\n",
    "print(f\"Accuracy: {model.score(test_df[features], test_df['salary_in_usd'])}\")\n",
    "print(f\"Mean Absolute Error: {mean_absolute_error(test_df['salary_in_usd'], predictions)}\")\n",
    "\n",
    "# Feature importance\n",
    "feature_importance = pd.DataFrame({'Feature': features, 'Importance': model.coef_})\n",
    "feature_importance = feature_importance.sort_values(by='Importance', ascending=False)\n",
    "print(feature_importance.head(10))  # Show top 10 most important features"
   ]
  },
  {
   "cell_type": "markdown",
   "metadata": {},
   "source": [
    "## Random Forest Model"
   ]
  },
  {
   "cell_type": "code",
   "execution_count": 90,
   "metadata": {},
   "outputs": [
    {
     "name": "stdout",
     "output_type": "stream",
     "text": [
      "Random Forest Mean Squared Error: 2150090450.169163\n",
      "Random Forest R-squared: 0.4053105154701694\n",
      "Random Forest Accuracy: 0.4053105154701694\n",
      "Mean Absolute Error: 37522.98449692578\n",
      "                         Feature  Importance\n",
      "1             employee_residence    0.416690\n",
      "18           experience_level_SE    0.111187\n",
      "6         job_title_Data Analyst    0.088055\n",
      "0                      work_year    0.066094\n",
      "2                   remote_ratio    0.048984\n",
      "3               company_location    0.038211\n",
      "19           experience_level_EX    0.028777\n",
      "15  job_title_Research Scientist    0.024493\n",
      "25                company_size_L    0.022394\n",
      "17           experience_level_MI    0.021160\n"
     ]
    }
   ],
   "source": [
    "# Initialize and train the Random Forest model\n",
    "rf_model = RandomForestRegressor(n_estimators=100, random_state=123)\n",
    "rf_model.fit(train_df[features], train_df['salary_in_usd'])\n",
    "\n",
    "# Make predictions on the test set\n",
    "rf_predictions = rf_model.predict(test_df[features])\n",
    "\n",
    "# Evaluate the model\n",
    "print(f\"Random Forest Mean Squared Error: {mean_squared_error(test_df['salary_in_usd'], rf_predictions)}\")\n",
    "print(f\"Random Forest R-squared: {r2_score(test_df['salary_in_usd'], rf_predictions)}\")\n",
    "print(f\"Random Forest Accuracy: {rf_model.score(test_df[features], test_df['salary_in_usd'])}\")\n",
    "print(f\"Mean Absolute Error: {mean_absolute_error(test_df['salary_in_usd'], predictions)}\")\n",
    "\n",
    "# Feature importance\n",
    "rf_feature_importance = pd.DataFrame({'Feature': features, 'Importance': rf_model.feature_importances_})\n",
    "rf_feature_importance = rf_feature_importance.sort_values(by='Importance', ascending=False)\n",
    "print(rf_feature_importance.head(10))"
   ]
  },
  {
   "cell_type": "markdown",
   "metadata": {},
   "source": [
    "## Gradient Boosting Model"
   ]
  },
  {
   "cell_type": "code",
   "execution_count": 91,
   "metadata": {},
   "outputs": [
    {
     "name": "stdout",
     "output_type": "stream",
     "text": [
      "Gradient Boosting Mean Squared Error: 2018327106.6027784\n",
      "Gradient Boosting R-squared: 0.4417546915090219\n",
      "Gradient Boosting Accuracy: 0.4417546915090219\n",
      "Mean Absolute Error: 37522.98449692578\n",
      "                         Feature  Importance\n",
      "1             employee_residence    0.416690\n",
      "18           experience_level_SE    0.111187\n",
      "6         job_title_Data Analyst    0.088055\n",
      "0                      work_year    0.066094\n",
      "2                   remote_ratio    0.048984\n",
      "3               company_location    0.038211\n",
      "19           experience_level_EX    0.028777\n",
      "15  job_title_Research Scientist    0.024493\n",
      "25                company_size_L    0.022394\n",
      "17           experience_level_MI    0.021160\n"
     ]
    }
   ],
   "source": [
    "# Initialize and train the Gradient Boosting model\n",
    "gb_model = GradientBoostingRegressor(n_estimators=100, random_state=123)\n",
    "gb_model.fit(train_df[features], train_df['salary_in_usd'])\n",
    "\n",
    "# Make predictions on the test set\n",
    "gb_predictions = gb_model.predict(test_df[features])\n",
    "\n",
    "# Evaluate the model\n",
    "print(f\"Gradient Boosting Mean Squared Error: {mean_squared_error(test_df['salary_in_usd'], gb_predictions)}\")\n",
    "print(f\"Gradient Boosting R-squared: {r2_score(test_df['salary_in_usd'], gb_predictions)}\")\n",
    "print(f\"Gradient Boosting Accuracy: {gb_model.score(test_df[features], test_df['salary_in_usd'])}\")\n",
    "print(f\"Mean Absolute Error: {mean_absolute_error(test_df['salary_in_usd'], predictions)}\")\n",
    "\n",
    "# Feature importance\n",
    "rf_feature_importance = pd.DataFrame({'Feature': features, 'Importance': rf_model.feature_importances_})\n",
    "rf_feature_importance = rf_feature_importance.sort_values(by='Importance', ascending=False)\n",
    "print(rf_feature_importance.head(10))"
   ]
  },
  {
   "cell_type": "markdown",
   "metadata": {},
   "source": [
    "## Support Vector Regression Model"
   ]
  },
  {
   "cell_type": "code",
   "execution_count": 92,
   "metadata": {},
   "outputs": [
    {
     "name": "stdout",
     "output_type": "stream",
     "text": [
      "SVR Mean Squared Error: 3612827156.126812\n",
      "SVR R-squared: 0.0007349137319370147\n",
      "SVR Accuracy: 0.0007349137319370147\n",
      "Mean Absolute Error: 37522.98449692578\n",
      "                         Feature  Importance\n",
      "1             employee_residence    0.416690\n",
      "18           experience_level_SE    0.111187\n",
      "6         job_title_Data Analyst    0.088055\n",
      "0                      work_year    0.066094\n",
      "2                   remote_ratio    0.048984\n",
      "3               company_location    0.038211\n",
      "19           experience_level_EX    0.028777\n",
      "15  job_title_Research Scientist    0.024493\n",
      "25                company_size_L    0.022394\n",
      "17           experience_level_MI    0.021160\n"
     ]
    }
   ],
   "source": [
    "# Build a pipeline: scale features then train SVR\n",
    "svr_pipeline = Pipeline([\n",
    "    ('scaler', StandardScaler()),\n",
    "    ('svr', SVR())\n",
    "])\n",
    "\n",
    "# Train the SVR model\n",
    "svr_pipeline.fit(train_df[features], train_df['salary_in_usd'])\n",
    "\n",
    "# Make predictions on the test set\n",
    "svr_predictions = svr_pipeline.predict(test_df[features])\n",
    "\n",
    "# Evaluate the model\n",
    "print(f\"SVR Mean Squared Error: {mean_squared_error(test_df['salary_in_usd'], svr_predictions)}\")\n",
    "print(f\"SVR R-squared: {r2_score(test_df['salary_in_usd'], svr_predictions)}\")\n",
    "print(f\"SVR Accuracy: {svr_pipeline.score(test_df[features], test_df['salary_in_usd'])}\")\n",
    "print(f\"Mean Absolute Error: {mean_absolute_error(test_df['salary_in_usd'], predictions)}\")\n",
    "\n",
    "# Feature importance\n",
    "rf_feature_importance = pd.DataFrame({'Feature': features, 'Importance': rf_model.feature_importances_})\n",
    "rf_feature_importance = rf_feature_importance.sort_values(by='Importance', ascending=False)\n",
    "print(rf_feature_importance.head(10))"
   ]
  },
  {
   "cell_type": "markdown",
   "metadata": {},
   "source": [
    "## XGBoost Model"
   ]
  },
  {
   "cell_type": "code",
   "execution_count": 93,
   "metadata": {},
   "outputs": [
    {
     "name": "stdout",
     "output_type": "stream",
     "text": [
      "XGBoost Mean Squared Error: 2186288896.0\n",
      "XGBoost R-squared: 0.39529842138290405\n",
      "XGBoost Accuracy: 0.39529842138290405\n",
      "Mean Absolute Error: 37522.98449692578\n",
      "                         Feature  Importance\n",
      "1             employee_residence    0.416690\n",
      "18           experience_level_SE    0.111187\n",
      "6         job_title_Data Analyst    0.088055\n",
      "0                      work_year    0.066094\n",
      "2                   remote_ratio    0.048984\n",
      "3               company_location    0.038211\n",
      "19           experience_level_EX    0.028777\n",
      "15  job_title_Research Scientist    0.024493\n",
      "25                company_size_L    0.022394\n",
      "17           experience_level_MI    0.021160\n"
     ]
    }
   ],
   "source": [
    "\n",
    "\n",
    "# Initialize and train the XGBoost model\n",
    "xgb_model = xgb.XGBRegressor(objective='reg:squarederror', n_estimators=100, random_state=42)\n",
    "xgb_model.fit(train_df[features], train_df['salary_in_usd'])\n",
    "\n",
    "# Make predictions on the test set\n",
    "xgb_predictions = xgb_model.predict(test_df[features])\n",
    "\n",
    "# Evaluate the model\n",
    "print(f\"XGBoost Mean Squared Error: {mean_squared_error(test_df['salary_in_usd'], xgb_predictions)}\")\n",
    "print(f\"XGBoost R-squared: {r2_score(test_df['salary_in_usd'], xgb_predictions)}\")\n",
    "print(f\"XGBoost Accuracy: {xgb_model.score(test_df[features], test_df['salary_in_usd'])}\")\n",
    "print(f\"Mean Absolute Error: {mean_absolute_error(test_df['salary_in_usd'], predictions)}\")\n",
    "\n",
    "# Feature importance\n",
    "rf_feature_importance = pd.DataFrame({'Feature': features, 'Importance': rf_model.feature_importances_})\n",
    "rf_feature_importance = rf_feature_importance.sort_values(by='Importance', ascending=False)\n",
    "print(rf_feature_importance.head(10))"
   ]
  }
 ],
 "metadata": {
  "kernelspec": {
   "display_name": ".venv",
   "language": "python",
   "name": "python3"
  },
  "language_info": {
   "codemirror_mode": {
    "name": "ipython",
    "version": 3
   },
   "file_extension": ".py",
   "mimetype": "text/x-python",
   "name": "python",
   "nbconvert_exporter": "python",
   "pygments_lexer": "ipython3",
   "version": "3.12.9"
  }
 },
 "nbformat": 4,
 "nbformat_minor": 2
}
