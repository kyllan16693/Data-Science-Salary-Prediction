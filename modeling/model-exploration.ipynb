{
 "cells": [
  {
   "cell_type": "markdown",
   "metadata": {},
   "source": [
    "# Testing out models"
   ]
  },
  {
   "cell_type": "code",
   "execution_count": 102,
   "metadata": {},
   "outputs": [],
   "source": [
    "import pandas as pd\n",
    "import xgboost as xgb\n",
    "from sklearn.model_selection import train_test_split\n",
    "from sklearn.tree import DecisionTreeRegressor\n",
    "from sklearn.linear_model import LinearRegression\n",
    "from sklearn.ensemble import RandomForestRegressor, GradientBoostingRegressor\n",
    "from sklearn.svm import SVR\n",
    "from sklearn.pipeline import Pipeline\n",
    "from sklearn.preprocessing import StandardScaler\n",
    "from sklearn.metrics import mean_squared_error, r2_score, mean_absolute_error"
   ]
  },
  {
   "cell_type": "code",
   "execution_count": 103,
   "metadata": {},
   "outputs": [],
   "source": [
    "df_encoded = pd.read_csv('../data/encoded_data.csv')\n",
    "\n",
    "train_df, test_df = train_test_split(df_encoded, test_size=0.2, random_state=123)\n",
    "features = [col for col in train_df.columns if col != 'salary_in_usd']"
   ]
  },
  {
   "cell_type": "markdown",
   "metadata": {},
   "source": [
    "## Decision Tree Model"
   ]
  },
  {
   "cell_type": "code",
   "execution_count": 104,
   "metadata": {},
   "outputs": [
    {
     "name": "stdout",
     "output_type": "stream",
     "text": [
      "Mean Squared Error: 2592595269.09228\n",
      "R-squared: 0.28291893764299014\n",
      "Accuracy: 0.28291893764299014\n",
      "Mean Absolute Error: 36936.08781460268\n",
      "                         Feature  Importance\n",
      "1             employee_residence    0.441546\n",
      "6         job_title_Data Analyst    0.101479\n",
      "18           experience_level_SE    0.100752\n",
      "0                      work_year    0.047055\n",
      "3               company_location    0.045312\n",
      "2                   remote_ratio    0.035187\n",
      "17           experience_level_MI    0.029659\n",
      "19           experience_level_EX    0.029068\n",
      "8        job_title_Data Engineer    0.024400\n",
      "15  job_title_Research Scientist    0.022687\n"
     ]
    }
   ],
   "source": [
    "model = DecisionTreeRegressor()\n",
    "\n",
    "# Train the model\n",
    "model.fit(train_df[features], train_df['salary_in_usd'])\n",
    "\n",
    "# Make predictions on the test set\n",
    "predictions = model.predict(test_df[features])\n",
    "\n",
    "# Evaluate the model\n",
    "print(f\"Mean Squared Error: {mean_squared_error(test_df['salary_in_usd'], predictions)}\")\n",
    "print(f\"R-squared: {r2_score(test_df['salary_in_usd'], predictions)}\")\n",
    "print(f\"Accuracy: {model.score(test_df[features], test_df['salary_in_usd'])}\")\n",
    "print(f\"Mean Absolute Error: {mean_absolute_error(test_df['salary_in_usd'], predictions)}\")\n",
    "\n",
    "# Feature importance\n",
    "feature_importance = pd.DataFrame({'Feature': features, 'Importance': model.feature_importances_})\n",
    "feature_importance = feature_importance.sort_values(by='Importance', ascending=False)\n",
    "print(feature_importance.head(10))  # Show top 10 most important features"
   ]
  },
  {
   "cell_type": "markdown",
   "metadata": {},
   "source": [
    "## Linear Regression Model"
   ]
  },
  {
   "cell_type": "code",
   "execution_count": 105,
   "metadata": {},
   "outputs": [
    {
     "name": "stdout",
     "output_type": "stream",
     "text": [
      "Mean Squared Error: 2283713481.2406917\n",
      "R-squared: 0.3683519719526217\n",
      "Accuracy: 0.3683519719526217\n",
      "Mean Absolute Error: 37522.98449692578\n",
      "                                Feature    Importance\n",
      "19                  experience_level_EX  50712.180068\n",
      "4                job_title_AI Scientist  42496.804665\n",
      "15         job_title_Research Scientist  31875.343499\n",
      "18                  experience_level_SE  30601.538601\n",
      "17                  experience_level_MI  21944.172989\n",
      "24                         same_country  20818.796428\n",
      "22                   employment_type_FT  16252.835242\n",
      "12  job_title_Machine Learning Engineer  16005.519658\n",
      "0                             work_year   7106.917780\n",
      "25                       company_size_L   6679.352218\n"
     ]
    }
   ],
   "source": [
    "# Initialize the model\n",
    "model = LinearRegression()\n",
    "\n",
    "# Train the model\n",
    "model.fit(train_df[features], train_df['salary_in_usd'])\n",
    "\n",
    "# Make predictions on the test set\n",
    "predictions = model.predict(test_df[features])\n",
    "\n",
    "# Evaluate the model\n",
    "print(f\"Mean Squared Error: {mean_squared_error(test_df['salary_in_usd'], predictions)}\")\n",
    "print(f\"R-squared: {r2_score(test_df['salary_in_usd'], predictions)}\")\n",
    "print(f\"Accuracy: {model.score(test_df[features], test_df['salary_in_usd'])}\")\n",
    "print(f\"Mean Absolute Error: {mean_absolute_error(test_df['salary_in_usd'], predictions)}\")\n",
    "\n",
    "# Feature importance\n",
    "feature_importance = pd.DataFrame({'Feature': features, 'Importance': model.coef_})\n",
    "feature_importance = feature_importance.sort_values(by='Importance', ascending=False)\n",
    "print(feature_importance.head(10))  # Show top 10 most important features"
   ]
  },
  {
   "cell_type": "markdown",
   "metadata": {},
   "source": [
    "## Random Forest Model"
   ]
  },
  {
   "cell_type": "code",
   "execution_count": 106,
   "metadata": {},
   "outputs": [
    {
     "name": "stdout",
     "output_type": "stream",
     "text": [
      "Random Forest Mean Squared Error: 2150090450.169163\n",
      "Random Forest R-squared: 0.4053105154701694\n",
      "Random Forest Accuracy: 0.4053105154701694\n",
      "Mean Absolute Error: 35351.083007521185\n",
      "                         Feature  Importance\n",
      "1             employee_residence    0.416690\n",
      "18           experience_level_SE    0.111187\n",
      "6         job_title_Data Analyst    0.088055\n",
      "0                      work_year    0.066094\n",
      "2                   remote_ratio    0.048984\n",
      "3               company_location    0.038211\n",
      "19           experience_level_EX    0.028777\n",
      "15  job_title_Research Scientist    0.024493\n",
      "25                company_size_L    0.022394\n",
      "17           experience_level_MI    0.021160\n"
     ]
    }
   ],
   "source": [
    "# Initialize and train the Random Forest model\n",
    "rf_model = RandomForestRegressor(n_estimators=100, random_state=123)\n",
    "rf_model.fit(train_df[features], train_df['salary_in_usd'])\n",
    "\n",
    "# Make predictions on the test set\n",
    "predictions = rf_model.predict(test_df[features])\n",
    "\n",
    "# Evaluate the model\n",
    "print(f\"Random Forest Mean Squared Error: {mean_squared_error(test_df['salary_in_usd'], predictions)}\")\n",
    "print(f\"Random Forest R-squared: {r2_score(test_df['salary_in_usd'], predictions)}\")\n",
    "print(f\"Random Forest Accuracy: {rf_model.score(test_df[features], test_df['salary_in_usd'])}\")\n",
    "print(f\"Mean Absolute Error: {mean_absolute_error(test_df['salary_in_usd'], predictions)}\")\n",
    "\n",
    "# Feature importance\n",
    "rf_feature_importance = pd.DataFrame({'Feature': features, 'Importance': rf_model.feature_importances_})\n",
    "rf_feature_importance = rf_feature_importance.sort_values(by='Importance', ascending=False)\n",
    "print(rf_feature_importance.head(10))"
   ]
  },
  {
   "cell_type": "markdown",
   "metadata": {},
   "source": [
    "## Gradient Boosting Model"
   ]
  },
  {
   "cell_type": "code",
   "execution_count": 107,
   "metadata": {},
   "outputs": [
    {
     "name": "stdout",
     "output_type": "stream",
     "text": [
      "Gradient Boosting Mean Squared Error: 2018327106.6027784\n",
      "Gradient Boosting R-squared: 0.4417546915090219\n",
      "Gradient Boosting Accuracy: 0.4417546915090219\n",
      "Mean Absolute Error: 34964.1222155299\n",
      "                         Feature  Importance\n",
      "1             employee_residence    0.416690\n",
      "18           experience_level_SE    0.111187\n",
      "6         job_title_Data Analyst    0.088055\n",
      "0                      work_year    0.066094\n",
      "2                   remote_ratio    0.048984\n",
      "3               company_location    0.038211\n",
      "19           experience_level_EX    0.028777\n",
      "15  job_title_Research Scientist    0.024493\n",
      "25                company_size_L    0.022394\n",
      "17           experience_level_MI    0.021160\n"
     ]
    }
   ],
   "source": [
    "# Initialize and train the Gradient Boosting model\n",
    "gb_model = GradientBoostingRegressor(n_estimators=100, random_state=123)\n",
    "gb_model.fit(train_df[features], train_df['salary_in_usd'])\n",
    "\n",
    "# Make predictions on the test set\n",
    "predictions = gb_model.predict(test_df[features])\n",
    "\n",
    "# Evaluate the model\n",
    "print(f\"Gradient Boosting Mean Squared Error: {mean_squared_error(test_df['salary_in_usd'], predictions)}\")\n",
    "print(f\"Gradient Boosting R-squared: {r2_score(test_df['salary_in_usd'], predictions)}\")\n",
    "print(f\"Gradient Boosting Accuracy: {gb_model.score(test_df[features], test_df['salary_in_usd'])}\")\n",
    "print(f\"Mean Absolute Error: {mean_absolute_error(test_df['salary_in_usd'], predictions)}\")\n",
    "\n",
    "# Feature importance\n",
    "rf_feature_importance = pd.DataFrame({'Feature': features, 'Importance': rf_model.feature_importances_})\n",
    "rf_feature_importance = rf_feature_importance.sort_values(by='Importance', ascending=False)\n",
    "print(rf_feature_importance.head(10))"
   ]
  },
  {
   "cell_type": "markdown",
   "metadata": {},
   "source": [
    "## Support Vector Regression Model"
   ]
  },
  {
   "cell_type": "code",
   "execution_count": 108,
   "metadata": {},
   "outputs": [
    {
     "name": "stdout",
     "output_type": "stream",
     "text": [
      "SVR Mean Squared Error: 3612827156.126812\n",
      "SVR R-squared: 0.0007349137319370147\n",
      "SVR Accuracy: 0.0007349137319370147\n",
      "Mean Absolute Error: 47588.93857393002\n",
      "                         Feature  Importance\n",
      "1             employee_residence    0.416690\n",
      "18           experience_level_SE    0.111187\n",
      "6         job_title_Data Analyst    0.088055\n",
      "0                      work_year    0.066094\n",
      "2                   remote_ratio    0.048984\n",
      "3               company_location    0.038211\n",
      "19           experience_level_EX    0.028777\n",
      "15  job_title_Research Scientist    0.024493\n",
      "25                company_size_L    0.022394\n",
      "17           experience_level_MI    0.021160\n"
     ]
    }
   ],
   "source": [
    "# Build a pipeline: scale features then train SVR\n",
    "svr_pipeline = Pipeline([\n",
    "    ('scaler', StandardScaler()),\n",
    "    ('svr', SVR())\n",
    "])\n",
    "\n",
    "# Train the SVR model\n",
    "svr_pipeline.fit(train_df[features], train_df['salary_in_usd'])\n",
    "\n",
    "# Make predictions on the test set\n",
    "predictions = svr_pipeline.predict(test_df[features])\n",
    "\n",
    "# Evaluate the model\n",
    "print(f\"SVR Mean Squared Error: {mean_squared_error(test_df['salary_in_usd'], predictions)}\")\n",
    "print(f\"SVR R-squared: {r2_score(test_df['salary_in_usd'], predictions)}\")\n",
    "print(f\"SVR Accuracy: {svr_pipeline.score(test_df[features], test_df['salary_in_usd'])}\")\n",
    "print(f\"Mean Absolute Error: {mean_absolute_error(test_df['salary_in_usd'], predictions)}\")\n",
    "\n",
    "# Feature importance\n",
    "rf_feature_importance = pd.DataFrame({'Feature': features, 'Importance': rf_model.feature_importances_})\n",
    "rf_feature_importance = rf_feature_importance.sort_values(by='Importance', ascending=False)\n",
    "print(rf_feature_importance.head(10))"
   ]
  },
  {
   "cell_type": "markdown",
   "metadata": {},
   "source": [
    "## XGBoost Model"
   ]
  },
  {
   "cell_type": "code",
   "execution_count": 109,
   "metadata": {},
   "outputs": [
    {
     "name": "stdout",
     "output_type": "stream",
     "text": [
      "XGBoost Mean Squared Error: 2186288896.0\n",
      "XGBoost R-squared: 0.39529842138290405\n",
      "XGBoost Accuracy: 0.39529842138290405\n",
      "Mean Absolute Error: 35730.01953125\n",
      "                         Feature  Importance\n",
      "1             employee_residence    0.416690\n",
      "18           experience_level_SE    0.111187\n",
      "6         job_title_Data Analyst    0.088055\n",
      "0                      work_year    0.066094\n",
      "2                   remote_ratio    0.048984\n",
      "3               company_location    0.038211\n",
      "19           experience_level_EX    0.028777\n",
      "15  job_title_Research Scientist    0.024493\n",
      "25                company_size_L    0.022394\n",
      "17           experience_level_MI    0.021160\n"
     ]
    }
   ],
   "source": [
    "# Initialize and train the XGBoost model\n",
    "xgb_model = xgb.XGBRegressor(objective='reg:squarederror', n_estimators=100, random_state=42)\n",
    "xgb_model.fit(train_df[features], train_df['salary_in_usd'])\n",
    "\n",
    "# Make predictions on the test set\n",
    "predictions = xgb_model.predict(test_df[features])\n",
    "\n",
    "# Evaluate the model\n",
    "print(f\"XGBoost Mean Squared Error: {mean_squared_error(test_df['salary_in_usd'], predictions)}\")\n",
    "print(f\"XGBoost R-squared: {r2_score(test_df['salary_in_usd'], predictions)}\")\n",
    "print(f\"XGBoost Accuracy: {xgb_model.score(test_df[features], test_df['salary_in_usd'])}\")\n",
    "print(f\"Mean Absolute Error: {mean_absolute_error(test_df['salary_in_usd'], predictions)}\")\n",
    "\n",
    "# Feature importance\n",
    "rf_feature_importance = pd.DataFrame({'Feature': features, 'Importance': rf_model.feature_importances_})\n",
    "rf_feature_importance = rf_feature_importance.sort_values(by='Importance', ascending=False)\n",
    "print(rf_feature_importance.head(10))"
   ]
  },
  {
   "cell_type": "markdown",
   "metadata": {},
   "source": [
    "Gradient Boosting is working the best so we can use that model for the final model."
   ]
  },
  {
   "cell_type": "markdown",
   "metadata": {},
   "source": [
    "## Hyperparameter Tuning Gradient Boosting Model"
   ]
  },
  {
   "cell_type": "code",
   "execution_count": 122,
   "metadata": {},
   "outputs": [
    {
     "name": "stdout",
     "output_type": "stream",
     "text": [
      "{'learning_rate': 0.2, 'max_depth': 6, 'min_samples_leaf': 1, 'min_samples_split': 20, 'n_estimators': 50}\n",
      "Default GB Mean Absolute Error: 34995.92699863281\n"
     ]
    }
   ],
   "source": [
    "from sklearn.model_selection import GridSearchCV\n",
    "\n",
    "# Define the parameter grid\n",
    "param_grid = {\n",
    "    'n_estimators': [20, 50, 75, 100],\n",
    "    'learning_rate': [0.01, 0.1, 0.2, 0.3],\n",
    "    'max_depth': [6, 7, 8, 9, 10],\n",
    "    'min_samples_split': [15, 20, 25, 30],\n",
    "    'min_samples_leaf': [1, 2, 3]\n",
    "}\n",
    "\n",
    "gb_model = GradientBoostingRegressor()\n",
    "\n",
    "grid_search = GridSearchCV(estimator=gb_model, param_grid=param_grid, cv=5, scoring='neg_mean_absolute_error')\n",
    "grid_search.fit(train_df[features], train_df['salary_in_usd'])\n",
    "\n",
    "print(grid_search.best_params_)"
   ]
  },
  {
   "cell_type": "code",
   "execution_count": 123,
   "metadata": {},
   "outputs": [
    {
     "name": "stdout",
     "output_type": "stream",
     "text": [
      "Gradient Boosting Mean Squared Error: 2100895439.0099707\n",
      "Gradient Boosting R-squared: 0.4189172713279976\n",
      "Gradient Boosting Accuracy: 0.4189172713279976\n",
      "Mean Absolute Error: 35313.8965762087\n",
      "                         Feature  Importance\n",
      "1             employee_residence    0.456948\n",
      "18           experience_level_SE    0.111983\n",
      "6         job_title_Data Analyst    0.104777\n",
      "0                      work_year    0.044372\n",
      "3               company_location    0.043272\n",
      "4         job_title_AI Scientist    0.032693\n",
      "19           experience_level_EX    0.031664\n",
      "17           experience_level_MI    0.024375\n",
      "15  job_title_Research Scientist    0.023456\n",
      "2                   remote_ratio    0.022434\n"
     ]
    }
   ],
   "source": [
    "# make model with {'learning_rate': 0.2, 'max_depth': 6, 'min_samples_leaf': 1, 'min_samples_split': 20, 'n_estimators': 50}\n",
    "gb_model = GradientBoostingRegressor(learning_rate=0.2, max_depth=6, min_samples_leaf=1, min_samples_split=20, n_estimators=50)\n",
    "gb_model.fit(train_df[features], train_df['salary_in_usd'])\n",
    "\n",
    "predictions = gb_model.predict(test_df[features])\n",
    "\n",
    "print(f\"Gradient Boosting Mean Squared Error: {mean_squared_error(test_df['salary_in_usd'], predictions)}\")\n",
    "print(f\"Gradient Boosting R-squared: {r2_score(test_df['salary_in_usd'], predictions)}\")\n",
    "print(f\"Gradient Boosting Accuracy: {gb_model.score(test_df[features], test_df['salary_in_usd'])}\")\n",
    "print(f\"Mean Absolute Error: {mean_absolute_error(test_df['salary_in_usd'], predictions)}\")\n",
    "\n",
    "# Feature importance\n",
    "feature_importance = pd.DataFrame({'Feature': features, 'Importance': gb_model.feature_importances_})\n",
    "feature_importance = feature_importance.sort_values(by='Importance', ascending=False)\n",
    "print(feature_importance.head(10))"
   ]
  },
  {
   "cell_type": "code",
   "execution_count": 131,
   "metadata": {},
   "outputs": [
    {
     "name": "stdout",
     "output_type": "stream",
     "text": [
      "{'colsample_bytree': 0.8, 'learning_rate': 0.1, 'max_depth': 5, 'min_child_weight': 1, 'n_estimators': 75, 'subsample': 0.8}\n"
     ]
    }
   ],
   "source": [
    "# Define the parameter grid\n",
    "param_grid = {\n",
    "    'n_estimators': [25, 50, 75],\n",
    "    'learning_rate': [0.05, 0.1, 0.15],\n",
    "    'max_depth': [4, 5, 6, 7],\n",
    "    'min_child_weight': [1, 3, 5],\n",
    "    'subsample': [0.8, 0.9, 1.0],\n",
    "    'colsample_bytree': [0.8, 0.9, 1.0]\n",
    "}\n",
    "\n",
    "xbg = xgb.XGBRegressor()\n",
    "\n",
    "grid_search = GridSearchCV(estimator=xbg, param_grid=param_grid, cv=5, scoring='neg_mean_absolute_error')\n",
    "grid_search.fit(train_df[features], train_df['salary_in_usd'])\n",
    "\n",
    "print(grid_search.best_params_)"
   ]
  },
  {
   "cell_type": "code",
   "execution_count": 130,
   "metadata": {},
   "outputs": [
    {
     "name": "stdout",
     "output_type": "stream",
     "text": [
      "XGBoost Mean Squared Error: 2068845312.0\n",
      "XGBoost R-squared: 0.42778193950653076\n",
      "XGBoost Accuracy: 0.42778193950653076\n",
      "Mean Absolute Error: 34996.12890625\n",
      "                                Feature  Importance\n",
      "6                job_title_Data Analyst    0.215807\n",
      "1                    employee_residence    0.147742\n",
      "18                  experience_level_SE    0.141537\n",
      "19                  experience_level_EX    0.067708\n",
      "8               job_title_Data Engineer    0.042165\n",
      "17                  experience_level_MI    0.038047\n",
      "15         job_title_Research Scientist    0.036798\n",
      "12  job_title_Machine Learning Engineer    0.028912\n",
      "4                job_title_AI Scientist    0.026230\n",
      "3                      company_location    0.025925\n"
     ]
    }
   ],
   "source": [
    "# xbg model with {'learning_rate': 0.1, 'max_depth': 6, 'n_estimators': 50}\n",
    "xbg = xgb.XGBRegressor(learning_rate=0.1, max_depth=6, n_estimators=50)\n",
    "xbg.fit(train_df[features], train_df['salary_in_usd'])\n",
    "\n",
    "predictions = xbg.predict(test_df[features])\n",
    "\n",
    "print(f\"XGBoost Mean Squared Error: {mean_squared_error(test_df['salary_in_usd'], predictions)}\")\n",
    "print(f\"XGBoost R-squared: {r2_score(test_df['salary_in_usd'], predictions)}\")\n",
    "print(f\"XGBoost Accuracy: {xbg.score(test_df[features], test_df['salary_in_usd'])}\")\n",
    "print(f\"Mean Absolute Error: {mean_absolute_error(test_df['salary_in_usd'], predictions)}\")\n",
    "\n",
    "# Feature importance\n",
    "feature_importance = pd.DataFrame({'Feature': features, 'Importance': xbg.feature_importances_})\n",
    "feature_importance = feature_importance.sort_values(by='Importance', ascending=False)\n",
    "print(feature_importance.head(10))\n"
   ]
  },
  {
   "cell_type": "code",
   "execution_count": null,
   "metadata": {},
   "outputs": [
    {
     "name": "stdout",
     "output_type": "stream",
     "text": [
      "XGBoost Mean Squared Error: 2024085760.0\n",
      "XGBoost R-squared: 0.44016188383102417\n",
      "XGBoost Accuracy: 0.44016188383102417\n",
      "Mean Absolute Error: 34731.91015625\n",
      "                                Feature  Importance\n",
      "18                  experience_level_SE    0.186654\n",
      "6                job_title_Data Analyst    0.130248\n",
      "1                    employee_residence    0.089373\n",
      "19                  experience_level_EX    0.065821\n",
      "3                      company_location    0.056195\n",
      "15         job_title_Research Scientist    0.040793\n",
      "17                  experience_level_MI    0.039507\n",
      "8               job_title_Data Engineer    0.038368\n",
      "12  job_title_Machine Learning Engineer    0.038310\n",
      "4                job_title_AI Scientist    0.028228\n"
     ]
    }
   ],
   "source": [
    "# {'colsample_bytree': 0.8, 'learning_rate': 0.1, 'max_depth': 5, 'min_child_weight': 1, 'n_estimators': 75, 'subsample': 0.8}\n",
    "xbg = xgb.XGBRegressor(colsample_bytree=0.8, learning_rate=0.1, max_depth=5, min_child_weight=1, n_estimators=75, subsample=0.8)\n",
    "xbg.fit(train_df[features], train_df['salary_in_usd'])\n",
    "\n",
    "predictions = xbg.predict(test_df[features])\n",
    "\n",
    "print(f\"XGBoost Mean Squared Error: {mean_squared_error(test_df['salary_in_usd'], predictions)}\")\n",
    "print(f\"XGBoost R-squared: {r2_score(test_df['salary_in_usd'], predictions)}\")\n",
    "print(f\"XGBoost Accuracy: {xbg.score(test_df[features], test_df['salary_in_usd'])}\")\n",
    "print(f\"Mean Absolute Error: {mean_absolute_error(test_df['salary_in_usd'], predictions)}\")\n",
    "\n",
    "# Feature importance\n",
    "feature_importance = pd.DataFrame({'Feature': features, 'Importance': xbg.feature_importances_})\n",
    "feature_importance = feature_importance.sort_values(by='Importance', ascending=False)\n",
    "print(feature_importance.head(10))"
   ]
  }
 ],
 "metadata": {
  "kernelspec": {
   "display_name": ".venv",
   "language": "python",
   "name": "python3"
  },
  "language_info": {
   "codemirror_mode": {
    "name": "ipython",
    "version": 3
   },
   "file_extension": ".py",
   "mimetype": "text/x-python",
   "name": "python",
   "nbconvert_exporter": "python",
   "pygments_lexer": "ipython3",
   "version": "3.12.9"
  }
 },
 "nbformat": 4,
 "nbformat_minor": 2
}
