{
 "cells": [
  {
   "cell_type": "markdown",
   "metadata": {},
   "source": [
    "# Testing out models"
   ]
  },
  {
   "cell_type": "code",
   "execution_count": null,
   "metadata": {},
   "outputs": [],
   "source": [
    "import pandas as pd\n",
    "import xgboost as xgb\n",
    "from sklearn.model_selection import train_test_split\n",
    "from sklearn.tree import DecisionTreeRegressor\n",
    "from sklearn.linear_model import LinearRegression\n",
    "from sklearn.ensemble import RandomForestRegressor, GradientBoostingRegressor\n",
    "from sklearn.svm import SVR\n",
    "from sklearn.pipeline import Pipeline\n",
    "from sklearn.preprocessing import StandardScaler\n",
    "from sklearn.metrics import mean_squared_error, r2_score, mean_absolute_error\n",
    "\n",
    "import mlflow\n",
    "import mlflow.sklearn\n",
    "from mlflow.models.signature import infer_signature\n",
    "\n",
    "mlflow.set_tracking_uri(uri=\"http://127.0.0.1:5000\")\n",
    "\n",
    "mlflow.set_experiment(\"Exploring Salary Prediction Models\")"
   ]
  },
  {
   "cell_type": "code",
   "execution_count": 2,
   "metadata": {},
   "outputs": [],
   "source": [
    "df_encoded = pd.read_csv('../data/encoded_data.csv')\n",
    "\n",
    "train_df, test_df = train_test_split(df_encoded, test_size=0.2, random_state=123)\n",
    "features = [col for col in train_df.columns if col != 'salary_in_usd']"
   ]
  },
  {
   "cell_type": "markdown",
   "metadata": {},
   "source": [
    "## Decision Tree Model"
   ]
  },
  {
   "cell_type": "code",
   "execution_count": null,
   "metadata": {},
   "outputs": [],
   "source": [
    "with mlflow.start_run(run_name=\"DecisionTreeRegressor\"):\n",
    "    mlflow.log_param(\"model_type\", \"DecisionTreeRegressor\")\n",
    "    for p, v in DecisionTreeRegressor().get_params().items():\n",
    "        mlflow.log_param(p, v)\n",
    "\n",
    "    model = DecisionTreeRegressor()\n",
    "    model.fit(train_df[features], train_df[\"salary_in_usd\"])\n",
    "\n",
    "    preds = model.predict(test_df[features])\n",
    "    mse = mean_squared_error(test_df[\"salary_in_usd\"], preds)\n",
    "    r2  = r2_score(test_df[\"salary_in_usd\"], preds)\n",
    "    mae = mean_absolute_error(test_df[\"salary_in_usd\"], preds)\n",
    "\n",
    "    mlflow.log_metric(\"mse\", mse)\n",
    "    mlflow.log_metric(\"r2\", r2)\n",
    "    mlflow.log_metric(\"mae\", mae)\n",
    "\n",
    "    signature = infer_signature(train_df[features], model.predict(train_df[features]))\n",
    "    input_example = train_df[features].head(3)\n",
    "\n",
    "    mlflow.sklearn.log_model(\n",
    "        model,\n",
    "        \"decision_tree_model\",\n",
    "        signature=signature,\n",
    "        input_example=input_example\n",
    "    )"
   ]
  },
  {
   "cell_type": "markdown",
   "metadata": {},
   "source": [
    "## Linear Regression Model"
   ]
  },
  {
   "cell_type": "code",
   "execution_count": null,
   "metadata": {},
   "outputs": [],
   "source": [
    "with mlflow.start_run(run_name=\"LinearRegression\"):\n",
    "    mlflow.log_param(\"model_type\", \"LinearRegression\")\n",
    "    for p, v in LinearRegression().get_params().items():\n",
    "        mlflow.log_param(p, v)\n",
    "\n",
    "    model = LinearRegression()\n",
    "    model.fit(train_df[features], train_df[\"salary_in_usd\"])\n",
    "\n",
    "    preds = model.predict(test_df[features])\n",
    "    mse   = mean_squared_error(test_df[\"salary_in_usd\"], preds)\n",
    "    r2    = r2_score(test_df[\"salary_in_usd\"], preds)\n",
    "    mae   = mean_absolute_error(test_df[\"salary_in_usd\"], preds)\n",
    "    acc   = model.score(test_df[features], test_df[\"salary_in_usd\"])\n",
    "\n",
    "    mlflow.log_metric(\"mse\", mse)\n",
    "    mlflow.log_metric(\"r2\", r2)\n",
    "    mlflow.log_metric(\"mae\", mae)\n",
    "    mlflow.log_metric(\"accuracy\", acc)\n",
    "\n",
    "    signature     = infer_signature(train_df[features], model.predict(train_df[features]))\n",
    "    input_example = train_df[features].head(3)\n",
    "\n",
    "    mlflow.sklearn.log_model(\n",
    "        model,\n",
    "        \"linear_regression_model\",\n",
    "        signature=signature,\n",
    "        input_example=input_example\n",
    "    )"
   ]
  },
  {
   "cell_type": "markdown",
   "metadata": {},
   "source": [
    "## Random Forest Model"
   ]
  },
  {
   "cell_type": "code",
   "execution_count": null,
   "metadata": {},
   "outputs": [],
   "source": [
    "with mlflow.start_run(run_name=\"RandomForestRegressor\"):\n",
    "    mlflow.log_param(\"model_type\", \"RandomForestRegressor\")\n",
    "    for p, v in RandomForestRegressor().get_params().items():\n",
    "        mlflow.log_param(p, v)\n",
    "\n",
    "    model = RandomForestRegressor(n_estimators=100, random_state=123)\n",
    "    model.fit(train_df[features], train_df[\"salary_in_usd\"])\n",
    "\n",
    "    predictions = model.predict(test_df[features])\n",
    "    mse = mean_squared_error(test_df[\"salary_in_usd\"], predictions)\n",
    "    r2 = r2_score(test_df[\"salary_in_usd\"], predictions)\n",
    "    mae = mean_absolute_error(test_df[\"salary_in_usd\"], predictions)\n",
    "    acc = model.score(test_df[features], test_df[\"salary_in_usd\"])\n",
    "\n",
    "    print(f\"Random Forest MSE: {mse}\")\n",
    "    print(f\"Random Forest R²: {r2}\")\n",
    "    print(f\"Random Forest Accuracy: {acc}\")\n",
    "    print(f\"Random Forest MAE: {mae}\")\n",
    "\n",
    "    mlflow.log_metric(\"mse\", mse)\n",
    "    mlflow.log_metric(\"r2\", r2)\n",
    "    mlflow.log_metric(\"mae\", mae)\n",
    "    mlflow.log_metric(\"accuracy\", acc)\n",
    "\n",
    "    signature = infer_signature(train_df[features], model.predict(train_df[features]))\n",
    "    input_example = train_df[features].head(3)\n",
    "\n",
    "    mlflow.sklearn.log_model(\n",
    "        model,\n",
    "        \"random_forest_model\",\n",
    "        signature=signature,\n",
    "        input_example=input_example\n",
    "    )"
   ]
  },
  {
   "cell_type": "markdown",
   "metadata": {},
   "source": [
    "## Gradient Boosting Model"
   ]
  },
  {
   "cell_type": "code",
   "execution_count": null,
   "metadata": {},
   "outputs": [],
   "source": [
    "with mlflow.start_run(run_name=\"GradientBoostingRegressor\"):\n",
    "    mlflow.log_param(\"model_type\", \"GradientBoostingRegressor\")\n",
    "    for p, v in GradientBoostingRegressor().get_params().items():\n",
    "        mlflow.log_param(p, v)\n",
    "\n",
    "    model = GradientBoostingRegressor(n_estimators=100, random_state=123)\n",
    "    model.fit(train_df[features], train_df[\"salary_in_usd\"])\n",
    "\n",
    "    preds = model.predict(test_df[features])\n",
    "    mse  = mean_squared_error(test_df[\"salary_in_usd\"], preds)\n",
    "    r2   = r2_score(test_df[\"salary_in_usd\"], preds)\n",
    "    mae  = mean_absolute_error(test_df[\"salary_in_usd\"], preds)\n",
    "    acc  = model.score(test_df[features], test_df[\"salary_in_usd\"])\n",
    "\n",
    "    mlflow.log_metric(\"mse\", mse)\n",
    "    mlflow.log_metric(\"r2\", r2)\n",
    "    mlflow.log_metric(\"mae\", mae)\n",
    "    mlflow.log_metric(\"accuracy\", acc)\n",
    "\n",
    "    signature     = infer_signature(train_df[features], model.predict(train_df[features]))\n",
    "    input_example = train_df[features].head(3)\n",
    "\n",
    "    mlflow.sklearn.log_model(\n",
    "        model,\n",
    "        \"gradient_boosting_model\",\n",
    "        signature=signature,\n",
    "        input_example=input_example\n",
    "    )"
   ]
  },
  {
   "cell_type": "markdown",
   "metadata": {},
   "source": [
    "## Support Vector Regression Model"
   ]
  },
  {
   "cell_type": "code",
   "execution_count": null,
   "metadata": {},
   "outputs": [],
   "source": [
    "# Re‐define the SVR pipeline before logging\n",
    "svr_pipeline = Pipeline([\n",
    "    ('scaler', StandardScaler()),\n",
    "    ('svr', SVR())\n",
    "])\n",
    "\n",
    "with mlflow.start_run(run_name=\"SVR\"):\n",
    "    mlflow.log_param(\"model_type\", \"SVR\")\n",
    "    for p, v in svr_pipeline.get_params().items():\n",
    "        mlflow.log_param(p, v)\n",
    "\n",
    "    svr_pipeline.fit(train_df[features], train_df[\"salary_in_usd\"])\n",
    "    preds = svr_pipeline.predict(test_df[features])\n",
    "    mse   = mean_squared_error(test_df[\"salary_in_usd\"], preds)\n",
    "    r2    = r2_score(test_df[\"salary_in_usd\"], preds)\n",
    "    mae   = mean_absolute_error(test_df[\"salary_in_usd\"], preds)\n",
    "    acc   = svr_pipeline.score(test_df[features], test_df[\"salary_in_usd\"])\n",
    "\n",
    "    mlflow.log_metric(\"mse\", mse)\n",
    "    mlflow.log_metric(\"r2\", r2)\n",
    "    mlflow.log_metric(\"mae\", mae)\n",
    "    mlflow.log_metric(\"accuracy\", acc)\n",
    "\n",
    "    signature     = infer_signature(train_df[features], svr_pipeline.predict(train_df[features]))\n",
    "    input_example = train_df[features].head(3)\n",
    "\n",
    "    mlflow.sklearn.log_model(\n",
    "        svr_pipeline,\n",
    "        \"svr_model\",\n",
    "        signature=signature,\n",
    "        input_example=input_example\n",
    "    )"
   ]
  },
  {
   "cell_type": "markdown",
   "metadata": {},
   "source": [
    "## XGBoost Model"
   ]
  },
  {
   "cell_type": "code",
   "execution_count": null,
   "metadata": {},
   "outputs": [],
   "source": [
    "with mlflow.start_run(run_name=\"XGBRegressor\"):\n",
    "    mlflow.log_param(\"model_type\", \"XGBRegressor\")\n",
    "    model = xgb.XGBRegressor(objective='reg:squarederror', n_estimators=100, random_state=42)\n",
    "    for p, v in model.get_params().items():\n",
    "        mlflow.log_param(p, v)\n",
    "\n",
    "    model.fit(train_df[features], train_df[\"salary_in_usd\"])\n",
    "\n",
    "    preds = model.predict(test_df[features])\n",
    "    mse   = mean_squared_error(test_df[\"salary_in_usd\"], preds)\n",
    "    r2    = r2_score(test_df[\"salary_in_usd\"], preds)\n",
    "    mae   = mean_absolute_error(test_df[\"salary_in_usd\"], preds)\n",
    "    acc   = model.score(test_df[features], test_df[\"salary_in_usd\"])\n",
    "\n",
    "    mlflow.log_metric(\"mse\", mse)\n",
    "    mlflow.log_metric(\"r2\", r2)\n",
    "    mlflow.log_metric(\"mae\", mae)\n",
    "    mlflow.log_metric(\"accuracy\", acc)\n",
    "\n",
    "    signature     = infer_signature(train_df[features], model.predict(train_df[features]))\n",
    "    input_example = train_df[features].head(3)\n",
    "\n",
    "    mlflow.sklearn.log_model(\n",
    "        model,\n",
    "        \"xgb_model\",\n",
    "        signature=signature,\n",
    "        input_example=input_example\n",
    "    )"
   ]
  },
  {
   "cell_type": "markdown",
   "metadata": {},
   "source": [
    "Gradient Boosting is working the best so we can use that model for the final model."
   ]
  },
  {
   "cell_type": "markdown",
   "metadata": {},
   "source": [
    "## Hyperparameter Tuning Gradient Boosting Model"
   ]
  },
  {
   "cell_type": "code",
   "execution_count": null,
   "metadata": {},
   "outputs": [],
   "source": [
    "from sklearn.model_selection import GridSearchCV\n",
    "\n",
    "# Define the parameter grid\n",
    "param_grid = {\n",
    "    'n_estimators': [20, 50, 75, 100],\n",
    "    'learning_rate': [0.01, 0.1, 0.2, 0.3],\n",
    "    'max_depth': [6, 7, 8, 9, 10],\n",
    "    'min_samples_split': [15, 20, 25, 30],\n",
    "    'min_samples_leaf': [1, 2, 3]\n",
    "}\n",
    "\n",
    "gb_model = GradientBoostingRegressor()\n",
    "\n",
    "grid_search = GridSearchCV(estimator=gb_model, param_grid=param_grid, cv=5, scoring='neg_mean_absolute_error')\n",
    "grid_search.fit(train_df[features], train_df['salary_in_usd'])\n",
    "\n",
    "print(grid_search.best_params_)"
   ]
  },
  {
   "cell_type": "code",
   "execution_count": null,
   "metadata": {},
   "outputs": [],
   "source": [
    "with mlflow.start_run(run_name=\"Best_Tuned_XGB\"):\n",
    "    mlflow.log_param(\"model_type\", \"XGBRegressor\")\n",
    "    best_params = {\n",
    "        \"colsample_bytree\": 0.8,\n",
    "        \"learning_rate\":    0.1,\n",
    "        \"max_depth\":        5,\n",
    "        \"min_child_weight\": 1,\n",
    "        \"n_estimators\":     75,\n",
    "        \"subsample\":        0.8\n",
    "    }\n",
    "    mlflow.log_params(best_params)\n",
    "\n",
    "    model = xgb.XGBRegressor(**best_params)\n",
    "    model.fit(train_df[features], train_df[\"salary_in_usd\"])\n",
    "\n",
    "    predictions = model.predict(test_df[features])\n",
    "    mse  = mean_squared_error(test_df[\"salary_in_usd\"], predictions)\n",
    "    r2   = r2_score(test_df[\"salary_in_usd\"], predictions)\n",
    "    mae  = mean_absolute_error(test_df[\"salary_in_usd\"], predictions)\n",
    "    acc  = model.score(test_df[features], test_df[\"salary_in_usd\"])\n",
    "\n",
    "    mlflow.log_metric(\"mse\", mse)\n",
    "    mlflow.log_metric(\"r2\", r2)\n",
    "    mlflow.log_metric(\"mae\", mae)\n",
    "    mlflow.log_metric(\"accuracy\", acc)\n",
    "\n",
    "    signature     = infer_signature(train_df[features], model.predict(train_df[features]))\n",
    "    input_example = train_df[features].head(3)\n",
    "\n",
    "    mlflow.sklearn.log_model(\n",
    "        model,\n",
    "        \"best_tuned_xgb_model\",\n",
    "        signature=signature,\n",
    "        input_example=input_example\n",
    "    )"
   ]
  },
  {
   "cell_type": "code",
   "execution_count": null,
   "metadata": {},
   "outputs": [],
   "source": [
    "# Define the parameter grid\n",
    "param_grid = {\n",
    "    'n_estimators': [25, 50, 75],\n",
    "    'learning_rate': [0.05, 0.1, 0.15],\n",
    "    'max_depth': [4, 5, 6, 7],\n",
    "    'min_child_weight': [1, 3, 5],\n",
    "    'subsample': [0.8, 0.9, 1.0],\n",
    "    'colsample_bytree': [0.8, 0.9, 1.0]\n",
    "}\n",
    "\n",
    "xbg = xgb.XGBRegressor()\n",
    "\n",
    "grid_search = GridSearchCV(estimator=xbg, param_grid=param_grid, cv=5, scoring='neg_mean_absolute_error')\n",
    "grid_search.fit(train_df[features], train_df['salary_in_usd'])\n",
    "\n",
    "print(grid_search.best_params_)"
   ]
  },
  {
   "cell_type": "code",
   "execution_count": null,
   "metadata": {},
   "outputs": [],
   "source": [
    "with mlflow.start_run(run_name=\"Final_XGBModel\"):\n",
    "    mlflow.log_param(\"model_type\", \"XGBRegressor_Final\")\n",
    "    best_params = {\n",
    "        \"colsample_bytree\":   0.8,\n",
    "        \"learning_rate\":      0.1,\n",
    "        \"max_depth\":          5,\n",
    "        \"min_child_weight\":   1,\n",
    "        \"n_estimators\":       75,\n",
    "        \"subsample\":          0.8,\n",
    "        \"objective\":          \"reg:squarederror\"\n",
    "    }\n",
    "    mlflow.log_params(best_params)\n",
    "\n",
    "    xbg = xgb.XGBRegressor(**best_params)\n",
    "    xbg.fit(train_df[features], train_df[\"salary_in_usd\"])\n",
    "\n",
    "    preds = xbg.predict(test_df[features])\n",
    "    mse  = mean_squared_error(test_df[\"salary_in_usd\"], preds)\n",
    "    r2   = r2_score(test_df[\"salary_in_usd\"], preds)\n",
    "    mae  = mean_absolute_error(test_df[\"salary_in_usd\"], preds)\n",
    "    acc  = xbg.score(test_df[features], test_df[\"salary_in_usd\"])\n",
    "\n",
    "    mlflow.log_metric(\"mse\", mse)\n",
    "    mlflow.log_metric(\"r2\", r2)\n",
    "    mlflow.log_metric(\"mae\", mae)\n",
    "    mlflow.log_metric(\"accuracy\", acc)\n",
    "\n",
    "    signature     = infer_signature(train_df[features], xbg.predict(train_df[features]))\n",
    "    input_example = train_df[features].head(3)\n",
    "\n",
    "    mlflow.sklearn.log_model(\n",
    "        xbg,\n",
    "        \"final_xgb_model\",\n",
    "        signature=signature,\n",
    "        input_example=input_example\n",
    "    )"
   ]
  }
 ],
 "metadata": {
  "kernelspec": {
   "display_name": ".venv",
   "language": "python",
   "name": "python3"
  },
  "language_info": {
   "codemirror_mode": {
    "name": "ipython",
    "version": 3
   },
   "file_extension": ".py",
   "mimetype": "text/x-python",
   "name": "python",
   "nbconvert_exporter": "python",
   "pygments_lexer": "ipython3",
   "version": "3.12.9"
  }
 },
 "nbformat": 4,
 "nbformat_minor": 2
}
